{
 "cells": [
  {
   "cell_type": "code",
   "execution_count": 1,
   "metadata": {},
   "outputs": [
    {
     "name": "stdout",
     "output_type": "stream",
     "text": [
      "2025-05-06 15:37:27,002 [INFO] WRITING LOG OUTPUT TO /Users/demir/.cellpose/run.log\n",
      "2025-05-06 15:37:27,002 [INFO] \n",
      "cellpose version: \t3.1.1.1 \n",
      "platform:       \tdarwin \n",
      "python version: \t3.10.17 \n",
      "torch version:  \t2.6.0\n",
      "2025-05-06 15:37:27,046 [INFO] ** TORCH MPS version installed and working. **\n",
      "2025-05-06 15:37:27,050 [INFO] ** TORCH MPS version installed and working. **\n",
      "2025-05-06 15:37:27,050 [INFO] >>>> using GPU (MPS)\n",
      "2025-05-06 15:37:27,184 [INFO] >>>> no model weights loaded\n"
     ]
    }
   ],
   "source": [
    "import numpy as np\n",
    "from cellpose import models, core, io, plot\n",
    "from pathlib import Path\n",
    "from tqdm import trange\n",
    "import matplotlib.pyplot as plt\n",
    "from natsort import natsorted\n",
    "\n",
    "io.logger_setup() # run this to get printing of progress\n",
    "\n",
    "#Check if colab notebook instance has GPU access\n",
    "if core.use_gpu()==False:\n",
    "  raise ImportError(\"No GPU access, change your runtime\")\n",
    "\n",
    "model = models.CellposeModel(gpu=True)"
   ]
  },
  {
   "cell_type": "code",
   "execution_count": 7,
   "metadata": {},
   "outputs": [
    {
     "name": "stdout",
     "output_type": "stream",
     "text": [
      "3 images in folder:\n",
      "8hr_BTZ_image1.tif\n",
      "just_two_channel.tif\n",
      "tif_deneme_1.tif\n"
     ]
    }
   ],
   "source": [
    "# *** change to your google drive folder path ***\n",
    "dir = \"/Users/demir/Documents/Hva_AI/afstudeerproject/codes_yunus/input/\"\n",
    "dir = Path(dir)\n",
    "if not dir.exists():\n",
    "  raise FileNotFoundError(\"directory does not exist\")\n",
    "\n",
    "# *** change to your image extension ***\n",
    "image_ext = \".tif\"\n",
    "\n",
    "# list all files\n",
    "files = natsorted([f for f in dir.glob(\"*\"+image_ext) if \"_masks\" not in f.name and \"_flows\" not in f.name])\n",
    "\n",
    "if(len(files)==0):\n",
    "  raise FileNotFoundError(\"no image files found, did you specify the correct folder and extension?\")\n",
    "else:\n",
    "  print(f\"{len(files)} images in folder:\")\n",
    "\n",
    "for f in files:\n",
    "  print(f.name)"
   ]
  },
  {
   "cell_type": "code",
   "execution_count": 8,
   "metadata": {},
   "outputs": [
    {
     "name": "stdout",
     "output_type": "stream",
     "text": [
      "2025-05-06 15:42:27,803 [INFO] reading tiff with 36 planes\n"
     ]
    },
    {
     "name": "stderr",
     "output_type": "stream",
     "text": [
      "100%|██████████| 36/36 [00:00<00:00, 527.91it/s]"
     ]
    },
    {
     "name": "stdout",
     "output_type": "stream",
     "text": [
      "2025-05-06 15:42:27,876 [INFO] multi-stack tiff read in as having 9 planes 4 channels\n",
      "2025-05-06 15:42:27,909 [WARNING] WARNING: more than 2 channels given, use 'channels' input for specifying channels - just using first 2 channels to run processing\n",
      "2025-05-06 15:42:27,910 [WARNING] normalize_params['norm3D'] is True but do_3D is False and stitch_threshold=0, so setting to False\n"
     ]
    },
    {
     "name": "stderr",
     "output_type": "stream",
     "text": [
      "\n"
     ]
    },
    {
     "name": "stdout",
     "output_type": "stream",
     "text": [
      "2025-05-06 15:42:28,139 [INFO] 0%|          | 0/9 [00:00<?, ?it/s]\n",
      "2025-05-06 15:42:49,829 [INFO] 100%|##########| 9/9 [00:21<00:00,  2.41s/it]\n",
      "2025-05-06 15:42:49,879 [INFO] network run in 21.74s\n",
      "2025-05-06 15:42:49,884 [INFO] 0%|          | 0/9 [00:00<?, ?it/s]\n",
      "2025-05-06 15:42:49,914 [INFO] No cell pixels found.\n",
      "2025-05-06 15:42:50,527 [WARNING] no seeds found in get_masks_torch - no masks found.\n",
      "2025-05-06 15:42:50,562 [INFO] No cell pixels found.\n",
      "2025-05-06 15:42:50,591 [INFO] No cell pixels found.\n",
      "2025-05-06 15:42:50,763 [WARNING] no seeds found in get_masks_torch - no masks found.\n",
      "2025-05-06 15:42:50,877 [WARNING] no seeds found in get_masks_torch - no masks found.\n",
      "2025-05-06 15:42:50,996 [WARNING] no seeds found in get_masks_torch - no masks found.\n",
      "2025-05-06 15:42:51,112 [WARNING] no seeds found in get_masks_torch - no masks found.\n",
      "2025-05-06 15:42:51,340 [INFO] 100%|##########| 9/9 [00:01<00:00,  6.19it/s]\n",
      "2025-05-06 15:42:51,341 [WARNING] 3D stack used, but stitch_threshold=0 and do_3D=False, so masks are made per plane only\n",
      "2025-05-06 15:42:51,341 [INFO] masks created in 1.46s\n"
     ]
    },
    {
     "ename": "TypeError",
     "evalue": "Invalid shape (9, 4, 1024, 1024) for image data",
     "output_type": "error",
     "traceback": [
      "\u001b[0;31m---------------------------------------------------------------------------\u001b[0m",
      "\u001b[0;31mTypeError\u001b[0m                                 Traceback (most recent call last)",
      "\u001b[1;32m/Users/demir/Documents/Hva_AI/afstudeerproject/codes_yunus/sam.ipynb Cell 3\u001b[0m line \u001b[0;36m1\n\u001b[1;32m      <a href='vscode-notebook-cell:/Users/demir/Documents/Hva_AI/afstudeerproject/codes_yunus/sam.ipynb#W2sZmlsZQ%3D%3D?line=6'>7</a>\u001b[0m masks, flows, styles \u001b[39m=\u001b[39m model\u001b[39m.\u001b[39meval(img, batch_size\u001b[39m=\u001b[39m\u001b[39m32\u001b[39m, flow_threshold\u001b[39m=\u001b[39mflow_threshold, cellprob_threshold\u001b[39m=\u001b[39mcellprob_threshold,\n\u001b[1;32m      <a href='vscode-notebook-cell:/Users/demir/Documents/Hva_AI/afstudeerproject/codes_yunus/sam.ipynb#W2sZmlsZQ%3D%3D?line=7'>8</a>\u001b[0m                                   normalize\u001b[39m=\u001b[39m{\u001b[39m\"\u001b[39m\u001b[39mtile_norm_blocksize\u001b[39m\u001b[39m\"\u001b[39m: tile_norm_blocksize})\n\u001b[1;32m     <a href='vscode-notebook-cell:/Users/demir/Documents/Hva_AI/afstudeerproject/codes_yunus/sam.ipynb#W2sZmlsZQ%3D%3D?line=9'>10</a>\u001b[0m fig \u001b[39m=\u001b[39m plt\u001b[39m.\u001b[39mfigure(figsize\u001b[39m=\u001b[39m(\u001b[39m12\u001b[39m,\u001b[39m5\u001b[39m))\n\u001b[0;32m---> <a href='vscode-notebook-cell:/Users/demir/Documents/Hva_AI/afstudeerproject/codes_yunus/sam.ipynb#W2sZmlsZQ%3D%3D?line=10'>11</a>\u001b[0m plot\u001b[39m.\u001b[39;49mshow_segmentation(fig, img, masks, flows[\u001b[39m0\u001b[39;49m])\n\u001b[1;32m     <a href='vscode-notebook-cell:/Users/demir/Documents/Hva_AI/afstudeerproject/codes_yunus/sam.ipynb#W2sZmlsZQ%3D%3D?line=11'>12</a>\u001b[0m plt\u001b[39m.\u001b[39mtight_layout()\n\u001b[1;32m     <a href='vscode-notebook-cell:/Users/demir/Documents/Hva_AI/afstudeerproject/codes_yunus/sam.ipynb#W2sZmlsZQ%3D%3D?line=12'>13</a>\u001b[0m plt\u001b[39m.\u001b[39mshow()\n",
      "File \u001b[0;32m/opt/anaconda3/envs/napari-env/lib/python3.10/site-packages/cellpose/plot.py:76\u001b[0m, in \u001b[0;36mshow_segmentation\u001b[0;34m(fig, img, maski, flowi, channels, file_name)\u001b[0m\n\u001b[1;32m     74\u001b[0m     \u001b[39mif\u001b[39;00m img0\u001b[39m.\u001b[39mmax() \u001b[39m<\u001b[39m\u001b[39m=\u001b[39m \u001b[39m50.0\u001b[39m:\n\u001b[1;32m     75\u001b[0m         img0 \u001b[39m=\u001b[39m np\u001b[39m.\u001b[39muint8(np\u001b[39m.\u001b[39mclip(img0, \u001b[39m0\u001b[39m, \u001b[39m1\u001b[39m) \u001b[39m*\u001b[39m \u001b[39m255\u001b[39m)\n\u001b[0;32m---> 76\u001b[0m ax\u001b[39m.\u001b[39;49mimshow(img0)\n\u001b[1;32m     77\u001b[0m ax\u001b[39m.\u001b[39mset_title(\u001b[39m\"\u001b[39m\u001b[39moriginal image\u001b[39m\u001b[39m\"\u001b[39m)\n\u001b[1;32m     78\u001b[0m ax\u001b[39m.\u001b[39maxis(\u001b[39m\"\u001b[39m\u001b[39moff\u001b[39m\u001b[39m\"\u001b[39m)\n",
      "File \u001b[0;32m/opt/anaconda3/envs/napari-env/lib/python3.10/site-packages/matplotlib/__init__.py:1521\u001b[0m, in \u001b[0;36m_preprocess_data.<locals>.inner\u001b[0;34m(ax, data, *args, **kwargs)\u001b[0m\n\u001b[1;32m   1518\u001b[0m \u001b[39m@functools\u001b[39m\u001b[39m.\u001b[39mwraps(func)\n\u001b[1;32m   1519\u001b[0m \u001b[39mdef\u001b[39;00m\u001b[39m \u001b[39m\u001b[39minner\u001b[39m(ax, \u001b[39m*\u001b[39margs, data\u001b[39m=\u001b[39m\u001b[39mNone\u001b[39;00m, \u001b[39m*\u001b[39m\u001b[39m*\u001b[39mkwargs):\n\u001b[1;32m   1520\u001b[0m     \u001b[39mif\u001b[39;00m data \u001b[39mis\u001b[39;00m \u001b[39mNone\u001b[39;00m:\n\u001b[0;32m-> 1521\u001b[0m         \u001b[39mreturn\u001b[39;00m func(\n\u001b[1;32m   1522\u001b[0m             ax,\n\u001b[1;32m   1523\u001b[0m             \u001b[39m*\u001b[39;49m\u001b[39mmap\u001b[39;49m(cbook\u001b[39m.\u001b[39;49msanitize_sequence, args),\n\u001b[1;32m   1524\u001b[0m             \u001b[39m*\u001b[39;49m\u001b[39m*\u001b[39;49m{k: cbook\u001b[39m.\u001b[39;49msanitize_sequence(v) \u001b[39mfor\u001b[39;49;00m k, v \u001b[39min\u001b[39;49;00m kwargs\u001b[39m.\u001b[39;49mitems()})\n\u001b[1;32m   1526\u001b[0m     bound \u001b[39m=\u001b[39m new_sig\u001b[39m.\u001b[39mbind(ax, \u001b[39m*\u001b[39margs, \u001b[39m*\u001b[39m\u001b[39m*\u001b[39mkwargs)\n\u001b[1;32m   1527\u001b[0m     auto_label \u001b[39m=\u001b[39m (bound\u001b[39m.\u001b[39marguments\u001b[39m.\u001b[39mget(label_namer)\n\u001b[1;32m   1528\u001b[0m                   \u001b[39mor\u001b[39;00m bound\u001b[39m.\u001b[39mkwargs\u001b[39m.\u001b[39mget(label_namer))\n",
      "File \u001b[0;32m/opt/anaconda3/envs/napari-env/lib/python3.10/site-packages/matplotlib/axes/_axes.py:5976\u001b[0m, in \u001b[0;36mAxes.imshow\u001b[0;34m(self, X, cmap, norm, aspect, interpolation, alpha, vmin, vmax, colorizer, origin, extent, interpolation_stage, filternorm, filterrad, resample, url, **kwargs)\u001b[0m\n\u001b[1;32m   5973\u001b[0m \u001b[39mif\u001b[39;00m aspect \u001b[39mis\u001b[39;00m \u001b[39mnot\u001b[39;00m \u001b[39mNone\u001b[39;00m:\n\u001b[1;32m   5974\u001b[0m     \u001b[39mself\u001b[39m\u001b[39m.\u001b[39mset_aspect(aspect)\n\u001b[0;32m-> 5976\u001b[0m im\u001b[39m.\u001b[39;49mset_data(X)\n\u001b[1;32m   5977\u001b[0m im\u001b[39m.\u001b[39mset_alpha(alpha)\n\u001b[1;32m   5978\u001b[0m \u001b[39mif\u001b[39;00m im\u001b[39m.\u001b[39mget_clip_path() \u001b[39mis\u001b[39;00m \u001b[39mNone\u001b[39;00m:\n\u001b[1;32m   5979\u001b[0m     \u001b[39m# image does not already have clipping set, clip to Axes patch\u001b[39;00m\n",
      "File \u001b[0;32m/opt/anaconda3/envs/napari-env/lib/python3.10/site-packages/matplotlib/image.py:685\u001b[0m, in \u001b[0;36m_ImageBase.set_data\u001b[0;34m(self, A)\u001b[0m\n\u001b[1;32m    683\u001b[0m \u001b[39mif\u001b[39;00m \u001b[39misinstance\u001b[39m(A, PIL\u001b[39m.\u001b[39mImage\u001b[39m.\u001b[39mImage):\n\u001b[1;32m    684\u001b[0m     A \u001b[39m=\u001b[39m pil_to_array(A)  \u001b[39m# Needed e.g. to apply png palette.\u001b[39;00m\n\u001b[0;32m--> 685\u001b[0m \u001b[39mself\u001b[39m\u001b[39m.\u001b[39m_A \u001b[39m=\u001b[39m \u001b[39mself\u001b[39;49m\u001b[39m.\u001b[39;49m_normalize_image_array(A)\n\u001b[1;32m    686\u001b[0m \u001b[39mself\u001b[39m\u001b[39m.\u001b[39m_imcache \u001b[39m=\u001b[39m \u001b[39mNone\u001b[39;00m\n\u001b[1;32m    687\u001b[0m \u001b[39mself\u001b[39m\u001b[39m.\u001b[39mstale \u001b[39m=\u001b[39m \u001b[39mTrue\u001b[39;00m\n",
      "File \u001b[0;32m/opt/anaconda3/envs/napari-env/lib/python3.10/site-packages/matplotlib/image.py:653\u001b[0m, in \u001b[0;36m_ImageBase._normalize_image_array\u001b[0;34m(A)\u001b[0m\n\u001b[1;32m    651\u001b[0m     A \u001b[39m=\u001b[39m A\u001b[39m.\u001b[39msqueeze(\u001b[39m-\u001b[39m\u001b[39m1\u001b[39m)  \u001b[39m# If just (M, N, 1), assume scalar and apply colormap.\u001b[39;00m\n\u001b[1;32m    652\u001b[0m \u001b[39mif\u001b[39;00m \u001b[39mnot\u001b[39;00m (A\u001b[39m.\u001b[39mndim \u001b[39m==\u001b[39m \u001b[39m2\u001b[39m \u001b[39mor\u001b[39;00m A\u001b[39m.\u001b[39mndim \u001b[39m==\u001b[39m \u001b[39m3\u001b[39m \u001b[39mand\u001b[39;00m A\u001b[39m.\u001b[39mshape[\u001b[39m-\u001b[39m\u001b[39m1\u001b[39m] \u001b[39min\u001b[39;00m [\u001b[39m3\u001b[39m, \u001b[39m4\u001b[39m]):\n\u001b[0;32m--> 653\u001b[0m     \u001b[39mraise\u001b[39;00m \u001b[39mTypeError\u001b[39;00m(\u001b[39mf\u001b[39m\u001b[39m\"\u001b[39m\u001b[39mInvalid shape \u001b[39m\u001b[39m{\u001b[39;00mA\u001b[39m.\u001b[39mshape\u001b[39m}\u001b[39;00m\u001b[39m for image data\u001b[39m\u001b[39m\"\u001b[39m)\n\u001b[1;32m    654\u001b[0m \u001b[39mif\u001b[39;00m A\u001b[39m.\u001b[39mndim \u001b[39m==\u001b[39m \u001b[39m3\u001b[39m:\n\u001b[1;32m    655\u001b[0m     \u001b[39m# If the input data has values outside the valid range (after\u001b[39;00m\n\u001b[1;32m    656\u001b[0m     \u001b[39m# normalisation), we issue a warning and then clip X to the bounds\u001b[39;00m\n\u001b[1;32m    657\u001b[0m     \u001b[39m# - otherwise casting wraps extreme values, hiding outliers and\u001b[39;00m\n\u001b[1;32m    658\u001b[0m     \u001b[39m# making reliable interpretation impossible.\u001b[39;00m\n\u001b[1;32m    659\u001b[0m     high \u001b[39m=\u001b[39m \u001b[39m255\u001b[39m \u001b[39mif\u001b[39;00m np\u001b[39m.\u001b[39missubdtype(A\u001b[39m.\u001b[39mdtype, np\u001b[39m.\u001b[39minteger) \u001b[39melse\u001b[39;00m \u001b[39m1\u001b[39m\n",
      "\u001b[0;31mTypeError\u001b[0m: Invalid shape (9, 4, 1024, 1024) for image data"
     ]
    },
    {
     "data": {
      "image/png": "[encoded data removed]",
      "text/plain": [
       "<Figure size 1200x500 with 1 Axes>"
      ]
     },
     "metadata": {},
     "output_type": "display_data"
    }
   ],
   "source": [
    "img = io.imread(files[2])\n",
    "print(img.shape)\n",
    "\n",
    "flow_threshold = 0.4\n",
    "cellprob_threshold = 0.0\n",
    "tile_norm_blocksize = 0\n",
    "\n",
    "masks, flows, styles = model.eval(img, batch_size=32, \n",
    "                                  flow_threshold=flow_threshold, \n",
    "                                  cellprob_threshold=cellprob_threshold, \n",
    "                                  diameter=100,\n",
    "                                  normalize={\"tile_norm_blocksize\": tile_norm_blocksize})\n",
    "\n",
    "fig = plt.figure(figsize=(12,5))\n",
    "plot.show_segmentation(fig, img, masks, flows[0])\n",
    "plt.tight_layout()\n",
    "plt.show()"
   ]
  }
 ],
 "metadata": {
  "kernelspec": {
   "display_name": "napari-env",
   "language": "python",
   "name": "python3"
  },
  "language_info": {
   "codemirror_mode": {
    "name": "ipython",
    "version": 3
   },
   "file_extension": ".py",
   "mimetype": "text/x-python",
   "name": "python",
   "nbconvert_exporter": "python",
   "pygments_lexer": "ipython3",
   "version": "3.10.17"
  },
  "orig_nbformat": 4
 },
 "nbformat": 4,
 "nbformat_minor": 2
}
