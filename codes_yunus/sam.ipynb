{
 "cells": [
  {
   "cell_type": "code",
   "execution_count": 17,
   "metadata": {},
   "outputs": [
    {
     "name": "stdout",
     "output_type": "stream",
     "text": [
      "2025-05-07 11:12:46,271 [INFO] WRITING LOG OUTPUT TO /Users/demir/.cellpose/run.log\n",
      "2025-05-07 11:12:46,272 [INFO] \n",
      "cellpose version: \t4.0.2.dev5+g636f0ee \n",
      "platform:       \tdarwin \n",
      "python version: \t3.10.17 \n",
      "torch version:  \t2.6.0\n",
      "2025-05-07 11:12:46,288 [INFO] ** TORCH MPS version installed and working. **\n",
      "2025-05-07 11:12:46,289 [INFO] >>>> using CPU\n",
      "2025-05-07 11:12:46,290 [INFO] >>>> using CPU\n",
      "2025-05-07 11:12:47,455 [INFO] >>>> loading model /Users/demir/.cellpose/models/cpsam\n"
     ]
    }
   ],
   "source": [
    "import numpy as np\n",
    "from cellpose import models, core, io, plot\n",
    "from pathlib import Path\n",
    "from tqdm import trange\n",
    "import matplotlib.pyplot as plt\n",
    "from natsort import natsorted\n",
    "\n",
    "io.logger_setup() # run this to get printing of progress\n",
    "\n",
    "#Check if colab notebook instance has GPU access\n",
    "if core.use_gpu()==False:\n",
    "  raise ImportError(\"No GPU access, change your runtime\")\n",
    "\n",
    "model = models.CellposeModel()\n"
   ]
  },
  {
   "cell_type": "code",
   "execution_count": 18,
   "metadata": {},
   "outputs": [
    {
     "name": "stdout",
     "output_type": "stream",
     "text": [
      "2025-05-07 11:12:49,638 [INFO] reading tiff with 36 planes\n"
     ]
    },
    {
     "name": "stderr",
     "output_type": "stream",
     "text": [
      "100%|██████████| 36/36 [00:00<00:00, 468.46it/s]"
     ]
    },
    {
     "name": "stdout",
     "output_type": "stream",
     "text": [
      "img : (9, 4, 1024, 1024)\n",
      "cell body : (1024, 1024)\n",
      "Nuclei : (1024, 1024)\n"
     ]
    },
    {
     "name": "stderr",
     "output_type": "stream",
     "text": [
      "\n"
     ]
    }
   ],
   "source": [
    "file_name = f\"/Users/demir/Documents/Hva_AI/afstudeerproject/codes_yunus/input/tif_deneme_1.tif\"\n",
    "img = io.imread(file_name) # (9, 4, 1024, 1024)\n",
    "print(f'img : {img.shape}')\n",
    "\n",
    "\n",
    "# CELL BODY\n",
    "img_cellbody = img[:, 3, :, :]\n",
    "img_cellbody = img_cellbody[6, :, :]\n",
    "print(f'cell body : {img_cellbody.shape}')\n",
    "\n",
    "# NUCLEI\n",
    "img_nuclei = img[:, 0, :, :]\n",
    "img_nuclei = img_nuclei[6, :, :]\n",
    "print(f'Nuclei : {img_nuclei.shape}')"
   ]
  },
  {
   "cell_type": "code",
   "execution_count": 21,
   "metadata": {},
   "outputs": [
    {
     "name": "stdout",
     "output_type": "stream",
     "text": [
      "2025-05-07 11:13:31,355 [WARNING] channels deprecated in v4.0.1+. If data contain more than 3 channels, only the first 3 channels will be used\n",
      "2025-05-07 11:13:31,356 [WARNING] more than 3 channels provided, only segmenting on first 3 channels\n",
      "2025-05-07 11:13:31,902 [INFO] running YX: 9 planes of size (1024, 1024)\n",
      "2025-05-07 11:13:31,903 [INFO] 0%|          | 0/9 [00:00<?, ?it/s]\n"
     ]
    }
   ],
   "source": [
    "masks_nuclei, flows_nuclei, styles_nuclei = model.eval(\n",
    "                                                        img,\n",
    "                                                        channel_axis=1,\n",
    "                                                        channels=0,\n",
    "                                                        z_axis=0,\n",
    "                                                        batch_size=32, \n",
    "                                                        flow_threshold=0.4, \n",
    "                                                        cellprob_threshold=0.0, \n",
    "                                                        diameter=30,\n",
    "                                                        do_3D=True,\n",
    "                                                        normalize={\"tile_norm_blocksize\": 0}\n",
    "                                                    )\n",
    "\n",
    "fig = plt.figure(figsize=(12,5))\n",
    "plot.show_segmentation(fig, img_nuclei, masks_nuclei, flows_nuclei[0])\n",
    "plt.tight_layout()\n",
    "plt.show()"
   ]
  },
  {
   "cell_type": "code",
   "execution_count": null,
   "metadata": {},
   "outputs": [
    {
     "name": "stdout",
     "output_type": "stream",
     "text": [
      "Toplam hücre sayısı: 23\n"
     ]
    }
   ],
   "source": [
    "# Kaç hücre bulundu?\n",
    "num_cells = masks_nuclei.max()\n",
    "print(f\"Toplam hücre sayısı: {num_cells}\")\n"
   ]
  },
  {
   "cell_type": "code",
   "execution_count": null,
   "metadata": {},
   "outputs": [
    {
     "name": "stdout",
     "output_type": "stream",
     "text": [
      "2025-05-07 11:01:38,356 [INFO] reading tiff with 36 planes\n"
     ]
    },
    {
     "name": "stderr",
     "output_type": "stream",
     "text": [
      "100%|██████████| 36/36 [00:00<00:00, 439.41it/s]"
     ]
    },
    {
     "name": "stdout",
     "output_type": "stream",
     "text": [
      "(1024, 1024)\n"
     ]
    },
    {
     "name": "stderr",
     "output_type": "stream",
     "text": [
      "\n"
     ]
    },
    {
     "ename": "AttributeError",
     "evalue": "module 'PIL.Image' has no attribute 'ANTIALIAS'",
     "output_type": "error",
     "traceback": [
      "\u001b[0;31m---------------------------------------------------------------------------\u001b[0m",
      "\u001b[0;31mAttributeError\u001b[0m                            Traceback (most recent call last)",
      "\u001b[1;32m/Users/demir/Documents/Hva_AI/afstudeerproject/codes_yunus/sam.ipynb Cell 5\u001b[0m line \u001b[0;36m1\n\u001b[1;32m      <a href='vscode-notebook-cell:/Users/demir/Documents/Hva_AI/afstudeerproject/codes_yunus/sam.ipynb#W4sZmlsZQ%3D%3D?line=8'>9</a>\u001b[0m \u001b[39m# 2D dilimi Pillow ile yeniden boyutlandırma\u001b[39;00m\n\u001b[1;32m     <a href='vscode-notebook-cell:/Users/demir/Documents/Hva_AI/afstudeerproject/codes_yunus/sam.ipynb#W4sZmlsZQ%3D%3D?line=9'>10</a>\u001b[0m img_pil \u001b[39m=\u001b[39m Image\u001b[39m.\u001b[39mfromarray(img)  \u001b[39m# NumPy dizisini PIL görüntüsüne çevir\u001b[39;00m\n\u001b[0;32m---> <a href='vscode-notebook-cell:/Users/demir/Documents/Hva_AI/afstudeerproject/codes_yunus/sam.ipynb#W4sZmlsZQ%3D%3D?line=10'>11</a>\u001b[0m img_resized \u001b[39m=\u001b[39m img_pil\u001b[39m.\u001b[39mresize((\u001b[39m512\u001b[39m, \u001b[39m512\u001b[39m), Image\u001b[39m.\u001b[39;49mANTIALIAS)\n\u001b[1;32m     <a href='vscode-notebook-cell:/Users/demir/Documents/Hva_AI/afstudeerproject/codes_yunus/sam.ipynb#W4sZmlsZQ%3D%3D?line=12'>13</a>\u001b[0m \u001b[39m# Yeniden boyutlandırılmış görüntüyü tekrar NumPy dizisine çevir\u001b[39;00m\n\u001b[1;32m     <a href='vscode-notebook-cell:/Users/demir/Documents/Hva_AI/afstudeerproject/codes_yunus/sam.ipynb#W4sZmlsZQ%3D%3D?line=13'>14</a>\u001b[0m img_resized_np \u001b[39m=\u001b[39m np\u001b[39m.\u001b[39marray(img_resized)\n",
      "\u001b[0;31mAttributeError\u001b[0m: module 'PIL.Image' has no attribute 'ANTIALIAS'"
     ]
    }
   ],
   "source": [
    "from PIL import Image\n",
    "import numpy as np\n",
    "img = io.imread(files[2]) # (9, 4, 1024, 1024)\n",
    "# NUCLEI\n",
    "img = img[:, 0, :, :]\n",
    "img = img[6, :, :]\n",
    "print(img.shape)\n",
    "\n",
    "# 2D dilimi Pillow ile yeniden boyutlandırma\n",
    "img_pil = Image.fromarray(img)  # NumPy dizisini PIL görüntüsüne çevir\n",
    "img_resized = img_pil.resize((512, 512), Image.ANTIALIAS)\n",
    "\n",
    "# Yeniden boyutlandırılmış görüntüyü tekrar NumPy dizisine çevir\n",
    "img_resized_np = np.array(img_resized)\n",
    "\n",
    "# Boyutunu kontrol et\n",
    "print(\"Yeniden boyutlandırılmış görüntü boyutu:\", img_resized_np.shape)\n"
   ]
  }
 ],
 "metadata": {
  "kernelspec": {
   "display_name": "napari-env",
   "language": "python",
   "name": "python3"
  },
  "language_info": {
   "codemirror_mode": {
    "name": "ipython",
    "version": 3
   },
   "file_extension": ".py",
   "mimetype": "text/x-python",
   "name": "python",
   "nbconvert_exporter": "python",
   "pygments_lexer": "ipython3",
   "version": "3.10.17"
  },
  "orig_nbformat": 4
 },
 "nbformat": 4,
 "nbformat_minor": 2
}
