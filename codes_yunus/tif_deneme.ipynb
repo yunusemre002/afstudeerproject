{
 "cells": [
  {
   "cell_type": "code",
   "execution_count": null,
   "metadata": {},
   "outputs": [],
   "source": [
    "# file_name = f\"/Users/demir/Documents/Hva_AI/afstudeerproject/Images Carolina/20240312_CKR_Exp35_STHdhQ97HA_96h_+BafA_CCT1_635P_HA_580_A11_460L_1.lif\"\n",
    "# file_name = f\"/Users/demir/Documents/Hva_AI/afstudeerproject/codes_yunus/8hr_BTZ_image1.tif\" # van internet\n",
    "# file_name = f\"/Users/demir/Documents/Hva_AI/afstudeerproject/Images Carolina/20240312_CKR_Exp35_STHdhQ97HA_96h_+MG132_CCT1_635P_HA_580_A11_460L_3.lif\"\n",
    "\n",
    "file_name = f\"/Users/demir/Documents/Hva_AI/afstudeerproject/codes_yunus/tif_deneme_1.tif\"\n",
    "\n",
    "from tifffile import imread\n",
    "\n",
    "image = imread(file_name)  # Şekil genellikle (T, C, Z, Y, X) oluyor.\n",
    "# Eğer sadece 1 timepoint varsa, T ekseni olmayabilir.\n",
    "\n",
    "print(image.shape)  \n",
    "# Örneğin (3, 30, 512, 512) → 3 kanal, 30 z-slice, 512x512 piksel gibi olur.\n",
    "\n"
   ]
  },
  {
   "cell_type": "code",
   "execution_count": null,
   "metadata": {},
   "outputs": [],
   "source": [
    "import matplotlib.pyplot as plt\n",
    "\n",
    "# image.shape = (Z=9, C=4, Y=1024, X=1024)\n",
    "\n",
    "z_slices = image.shape[0]\n",
    "channels = image.shape[1]\n",
    "\n",
    "fig, axs = plt.subplots(channels, z_slices, figsize=(3 * z_slices, 3 * channels))\n",
    "\n",
    "for c in range(channels):\n",
    "    for z in range(z_slices):\n",
    "        ax = axs[c, z]\n",
    "        ax.imshow(image[z, c], cmap='gray')\n",
    "        ax.set_title(f\"C{c} Z{z}\", fontsize=8)\n",
    "        ax.axis('off')\n",
    "\n",
    "plt.tight_layout()\n",
    "plt.show()\n"
   ]
  }
 ],
 "metadata": {
  "language_info": {
   "name": "python"
  },
  "orig_nbformat": 4
 },
 "nbformat": 4,
 "nbformat_minor": 2
}
