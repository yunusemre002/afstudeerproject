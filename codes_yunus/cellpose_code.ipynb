{
 "cells": [
  {
   "cell_type": "code",
   "execution_count": 4,
   "metadata": {},
   "outputs": [
    {
     "name": "stderr",
     "output_type": "stream",
     "text": [
      "ERROR: could not read file, 'NoneType' object has no attribute 'ndim'\n"
     ]
    },
    {
     "ename": "AttributeError",
     "evalue": "'NoneType' object has no attribute 'squeeze'",
     "output_type": "error",
     "traceback": [
      "\u001b[31m---------------------------------------------------------------------------\u001b[39m",
      "\u001b[31mAttributeError\u001b[39m                            Traceback (most recent call last)",
      "\u001b[36mCell\u001b[39m\u001b[36m \u001b[39m\u001b[32mIn[4]\u001b[39m\u001b[32m, line 4\u001b[39m\n\u001b[32m      2\u001b[39m file_name = \u001b[33m\"\u001b[39m\u001b[33mImages Carolina/20240312_CKR_Exp35_STHdhQ97HA_96h_+BafA_CCT1_635P_HA_580_A11_460L_1.lif\u001b[39m\u001b[33m\"\u001b[39m\n\u001b[32m      3\u001b[39m img = io.imread(file_name)\n\u001b[32m----> \u001b[39m\u001b[32m4\u001b[39m masks, flows, styles = \u001b[43mmodels\u001b[49m\u001b[43m.\u001b[49m\u001b[43mCellposeModel\u001b[49m\u001b[43m(\u001b[49m\u001b[43mmodel_type\u001b[49m\u001b[43m=\u001b[49m\u001b[33;43m'\u001b[39;49m\u001b[33;43mtissuenet_cp3\u001b[39;49m\u001b[33;43m'\u001b[39;49m\u001b[43m)\u001b[49m\u001b[43m.\u001b[49m\u001b[43meval\u001b[49m\u001b[43m(\u001b[49m\u001b[43mimg\u001b[49m\u001b[43m,\u001b[49m\n\u001b[32m      5\u001b[39m \u001b[43m                            \u001b[49m\u001b[43mdiameter\u001b[49m\u001b[43m=\u001b[49m\u001b[32;43m25\u001b[39;49m\u001b[43m,\u001b[49m\u001b[43m \u001b[49m\u001b[43mchannels\u001b[49m\u001b[43m=\u001b[49m\u001b[43m[\u001b[49m\u001b[32;43m1\u001b[39;49m\u001b[43m,\u001b[49m\u001b[32;43m2\u001b[39;49m\u001b[43m]\u001b[49m\u001b[43m)\u001b[49m\n",
      "\u001b[36mFile \u001b[39m\u001b[32m~/Documents/Hva_AI/afstudeerproject/env-afstudeer/lib/python3.12/site-packages/cellpose/models.py:443\u001b[39m, in \u001b[36mCellposeModel.eval\u001b[39m\u001b[34m(self, x, batch_size, resample, channels, channel_axis, z_axis, normalize, invert, rescale, diameter, flow_threshold, cellprob_threshold, do_3D, anisotropy, flow3D_smooth, stitch_threshold, min_size, max_size_fraction, niter, augment, tile_overlap, bsize, interp, compute_masks, progress)\u001b[39m\n\u001b[32m    378\u001b[39m \u001b[38;5;28;01mdef\u001b[39;00m\u001b[38;5;250m \u001b[39m\u001b[34meval\u001b[39m(\u001b[38;5;28mself\u001b[39m, x, batch_size=\u001b[32m8\u001b[39m, resample=\u001b[38;5;28;01mTrue\u001b[39;00m, channels=\u001b[38;5;28;01mNone\u001b[39;00m, channel_axis=\u001b[38;5;28;01mNone\u001b[39;00m,\n\u001b[32m    379\u001b[39m          z_axis=\u001b[38;5;28;01mNone\u001b[39;00m, normalize=\u001b[38;5;28;01mTrue\u001b[39;00m, invert=\u001b[38;5;28;01mFalse\u001b[39;00m, rescale=\u001b[38;5;28;01mNone\u001b[39;00m, diameter=\u001b[38;5;28;01mNone\u001b[39;00m,\n\u001b[32m    380\u001b[39m          flow_threshold=\u001b[32m0.4\u001b[39m, cellprob_threshold=\u001b[32m0.0\u001b[39m, do_3D=\u001b[38;5;28;01mFalse\u001b[39;00m, anisotropy=\u001b[38;5;28;01mNone\u001b[39;00m,\n\u001b[32m   (...)\u001b[39m\u001b[32m    383\u001b[39m          augment=\u001b[38;5;28;01mFalse\u001b[39;00m, tile_overlap=\u001b[32m0.1\u001b[39m, bsize=\u001b[32m224\u001b[39m, \n\u001b[32m    384\u001b[39m          interp=\u001b[38;5;28;01mTrue\u001b[39;00m, compute_masks=\u001b[38;5;28;01mTrue\u001b[39;00m, progress=\u001b[38;5;28;01mNone\u001b[39;00m):\n\u001b[32m    385\u001b[39m \u001b[38;5;250m    \u001b[39m\u001b[33;03m\"\"\" segment list of images x, or 4D array - Z x nchan x Y x X\u001b[39;00m\n\u001b[32m    386\u001b[39m \n\u001b[32m    387\u001b[39m \u001b[33;03m    Args:\u001b[39;00m\n\u001b[32m   (...)\u001b[39m\u001b[32m    441\u001b[39m \u001b[33;03m        \u001b[39;00m\n\u001b[32m    442\u001b[39m \u001b[33;03m    \"\"\"\u001b[39;00m\n\u001b[32m--> \u001b[39m\u001b[32m443\u001b[39m     \u001b[38;5;28;01mif\u001b[39;00m \u001b[38;5;28misinstance\u001b[39m(x, \u001b[38;5;28mlist\u001b[39m) \u001b[38;5;129;01mor\u001b[39;00m \u001b[43mx\u001b[49m\u001b[43m.\u001b[49m\u001b[43msqueeze\u001b[49m().ndim == \u001b[32m5\u001b[39m:\n\u001b[32m    444\u001b[39m         \u001b[38;5;28mself\u001b[39m.timing = []\n\u001b[32m    445\u001b[39m         masks, styles, flows = [], [], []\n",
      "\u001b[31mAttributeError\u001b[39m: 'NoneType' object has no attribute 'squeeze'"
     ]
    }
   ],
   "source": [
    "from cellpose import io, models\n",
    "file_name = \"Images Carolina/20240312_CKR_Exp35_STHdhQ97HA_96h_+BafA_CCT1_635P_HA_580_A11_460L_1.lif\"\n",
    "img = io.imread(file_name)\n",
    "masks, flows, styles = models.CellposeModel(model_type='tissuenet_cp3').eval(img,\n",
    "                            diameter=25, channels=[1,2])"
   ]
  }
 ],
 "metadata": {
  "kernelspec": {
   "display_name": "env-afstudeer",
   "language": "python",
   "name": "python3"
  },
  "language_info": {
   "codemirror_mode": {
    "name": "ipython",
    "version": 3
   },
   "file_extension": ".py",
   "mimetype": "text/x-python",
   "name": "python",
   "nbconvert_exporter": "python",
   "pygments_lexer": "ipython3",
   "version": "3.12.5"
  },
  "orig_nbformat": 4
 },
 "nbformat": 4,
 "nbformat_minor": 2
}
