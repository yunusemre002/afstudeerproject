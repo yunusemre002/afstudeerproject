{
 "cells": [
  {
   "cell_type": "code",
   "execution_count": 3,
   "metadata": {},
   "outputs": [
    {
     "name": "stdout",
     "output_type": "stream",
     "text": [
      "2025-05-07 14:51:43,861 [INFO] WRITING LOG OUTPUT TO /Users/demir/.cellpose/run.log\n",
      "2025-05-07 14:51:43,862 [INFO] \n",
      "cellpose version: \t4.0.2.dev5+g636f0ee \n",
      "platform:       \tdarwin \n",
      "python version: \t3.10.17 \n",
      "torch version:  \t2.6.0\n",
      "2025-05-07 14:51:43,868 [INFO] ** TORCH MPS version installed and working. **\n",
      "2025-05-07 14:51:43,870 [INFO] >>>> using CPU\n",
      "2025-05-07 14:51:43,871 [INFO] >>>> using CPU\n",
      "2025-05-07 14:51:44,966 [INFO] >>>> loading model /Users/demir/.cellpose/models/cpsam\n"
     ]
    }
   ],
   "source": [
    "import numpy as np\n",
    "from cellpose import models, core, io, plot\n",
    "from pathlib import Path\n",
    "from tqdm import trange\n",
    "import matplotlib.pyplot as plt\n",
    "from natsort import natsorted\n",
    "from skimage import measure, morphology\n",
    "\n",
    "\n",
    "io.logger_setup() # run this to get printing of progress\n",
    "\n",
    "#Check if colab notebook instance has GPU access\n",
    "if core.use_gpu()==False:\n",
    "  raise ImportError(\"No GPU access, change your runtime\")\n",
    "\n",
    "model = models.CellposeModel()\n"
   ]
  },
  {
   "cell_type": "code",
   "execution_count": 4,
   "metadata": {},
   "outputs": [
    {
     "name": "stdout",
     "output_type": "stream",
     "text": [
      "2025-05-07 14:51:47,481 [INFO] reading tiff with 36 planes\n"
     ]
    },
    {
     "name": "stderr",
     "output_type": "stream",
     "text": [
      "100%|██████████| 36/36 [00:00<00:00, 559.78it/s]"
     ]
    },
    {
     "name": "stdout",
     "output_type": "stream",
     "text": [
      "img       : (9, 4, 1024, 1024)\n",
      "Nuclei    : (9, 1024, 1024)\n",
      "Aggregate : (9, 1024, 1024)\n",
      "Cell body : (9, 1024, 1024)\n"
     ]
    },
    {
     "name": "stderr",
     "output_type": "stream",
     "text": [
      "\n"
     ]
    }
   ],
   "source": [
    "file_name = f\"/Users/demir/Documents/Hva_AI/afstudeerproject/codes_yunus/input/tif_deneme_1.tif\"\n",
    "img = io.imread(file_name) # (9, 4, 1024, 1024)\n",
    "print(f'img       : {img.shape}')\n",
    "\n",
    "# NUCLEI\n",
    "img_nuclei = img[:, 0, :, :]\n",
    "# img_nuclei = img_nuclei[6, :, :]\n",
    "print(f'Nuclei    : {img_nuclei.shape}')\n",
    "\n",
    "# NUCLEI\n",
    "img_aggregate = img[:, 2, :, :]\n",
    "# img_aggregate = img_aggregate[6, :, :]\n",
    "print(f'Aggregate : {img_aggregate.shape}')\n",
    "\n",
    "# CELL BODY\n",
    "img_cellbody = img[:, 3, :, :]\n",
    "# img_cellbody = img_cellbody[6, :, :]\n",
    "print(f'Cell body : {img_cellbody.shape}')\n"
   ]
  },
  {
   "cell_type": "code",
   "execution_count": 5,
   "metadata": {},
   "outputs": [
    {
     "name": "stdout",
     "output_type": "stream",
     "text": [
      "2025-05-07 14:51:51,722 [INFO] reading tiff with 36 planes\n"
     ]
    },
    {
     "name": "stderr",
     "output_type": "stream",
     "text": [
      "100%|██████████| 36/36 [00:00<00:00, 838.60it/s]"
     ]
    },
    {
     "name": "stdout",
     "output_type": "stream",
     "text": [
      "img shape: (9, 4, 1024, 1024)\n",
      "Channel 3 shape: (9, 1024, 1024)\n"
     ]
    },
    {
     "name": "stderr",
     "output_type": "stream",
     "text": [
      "\n"
     ]
    }
   ],
   "source": [
    "# Input image file\n",
    "file_name = f\"/Users/demir/Documents/Hva_AI/afstudeerproject/codes_yunus/input/tif_deneme_1.tif\"\n",
    "img = io.imread(file_name)  # img shape: (Z, Channels, Height, Width)\n",
    "print(f'img shape: {img.shape}')\n",
    "\n",
    "\n",
    "# Function to process each Z-slice for a given channel\n",
    "def process_channel(img, channel_idx, diameter, threshold_factor=0.4):\n",
    "    channel_img = img[:, channel_idx, :, :]\n",
    "    print(f'Channel {channel_idx} shape: {channel_img.shape}')\n",
    "    \n",
    "    # Create an empty list to hold the masks for each Z-slice\n",
    "    masks = []\n",
    "    \n",
    "    for z_slice in range(channel_img.shape[0]):\n",
    "        slice_img = channel_img[z_slice, :, :]\n",
    "        \n",
    "        masks_z, _, _ = model.eval(\n",
    "            slice_img,\n",
    "            batch_size=8,\n",
    "            flow_threshold=0.4,\n",
    "            cellprob_threshold=0.0,\n",
    "            diameter=diameter,\n",
    "            normalize={\"tile_norm_blocksize\": 0}\n",
    "        )\n",
    "        masks.append(masks_z)\n",
    "    \n",
    "    return masks\n",
    "\n",
    "# Process nuclei (Channel 1)\n",
    "# nuclei_masks = process_channel(img, 1, diameter=30)\n",
    "\n",
    "# Process cell bodies (Channel 3)\n",
    "cellbody_masks = process_channel(img, 3, diameter=100)\n",
    "\n",
    "# Process aggregates (Channel 2)\n",
    "def process_aggregates(img):\n",
    "    aggregate_masks = []\n",
    "    for z_slice in range(img.shape[0]):\n",
    "        slice_img = img[z_slice, 2, :, :]  # Channel 2 for aggregates\n",
    "        threshold = 0.4 * np.max(slice_img)\n",
    "        bright_spots = slice_img > threshold\n",
    "        clean_mask = morphology.remove_small_objects(bright_spots, min_size=10)\n",
    "        aggregate_masks.append(clean_mask)\n",
    "    return aggregate_masks\n",
    "\n",
    "aggregate_masks = process_aggregates(img)\n"
   ]
  },
  {
   "cell_type": "code",
   "execution_count": null,
   "metadata": {},
   "outputs": [],
   "source": [
    "\n",
    "\n",
    "# Function to plot overlay with red aggregates\n",
    "def plot_overlay_with_red_aggregates(original_img, cellbody_mask, nuclei_mask, aggregate_mask, alpha=0.5):\n",
    "    \n",
    "    fig, ax = plt.subplots(figsize=(12, 6))\n",
    "    \n",
    "    ax.imshow(original_img, cmap='gray', alpha=1.0)\n",
    "\n",
    "    # Cell body and nuclei boundaries\n",
    "    for region in measure.regionprops(cellbody_mask):\n",
    "        for coords in measure.find_contours(cellbody_mask == region.label, 0.5):\n",
    "            ax.plot(coords[:, 1], coords[:, 0], color='gray', linewidth=1)\n",
    "    \n",
    "    for region in measure.regionprops(nuclei_mask):\n",
    "        for coords in measure.find_contours(nuclei_mask == region.label, 0.5):\n",
    "            ax.plot(coords[:, 1], coords[:, 0], color='white', linewidth=1)\n",
    "    \n",
    "    # Overlay masks with transparency\n",
    "    ax.imshow(cellbody_mask, cmap='gray', alpha=alpha)\n",
    "    ax.imshow(nuclei_mask, cmap='gray', alpha=alpha / 2)\n",
    "    \n",
    "    # Red aggregates overlay\n",
    "    red_overlay = np.zeros((*aggregate_mask.shape, 4))  # RGBA\n",
    "    red_overlay[aggregate_mask > 0] = [1, 0, 0, 0.7]  # Red with 70% opacity\n",
    "    ax.imshow(red_overlay)\n",
    "\n",
    "    ax.set_title(\"Overlay with Red Aggregates\", fontsize=16)\n",
    "    ax.axis('off')\n",
    "    plt.tight_layout()\n",
    "    plt.show()\n",
    "\n",
    "# Iterate over all Z-slices and create the required visualizations\n",
    "for z_slice in range(img.shape[0]):\n",
    "    img_norm = normalize(img[z_slice, 3, :, :])  # Normalize cell body image\n",
    "    plot_overlay_with_red_aggregates(img_norm, cellbody_masks[z_slice], nuclei_masks[z_slice], aggregate_masks[z_slice])\n",
    "\n",
    "    # Original image visualization\n",
    "    plt.figure(figsize=(12, 6))\n",
    "    plt.imshow(img[z_slice, 3, :, :], cmap='gray')\n",
    "    plt.axis('off')\n",
    "    plt.title(f\"Original Image Z-slice {z_slice}\")\n",
    "    plt.tight_layout()\n",
    "    plt.show()\n"
   ]
  },
  {
   "cell_type": "code",
   "execution_count": 8,
   "metadata": {},
   "outputs": [],
   "source": [
    "import matplotlib.pyplot as plt\n",
    "import numpy as np\n",
    "from skimage import measure\n",
    "\n",
    "def normalize(img):\n",
    "    return (img - img.min()) / (img.max() - img.min())\n",
    "\n",
    "def plot_overlay_with_counts(original_img, cellbody_mask, nuclei_mask, aggregate_mask, cellbody_count, nuclei_count, aggregate_count, alpha=0.5):\n",
    "    fig, ax = plt.subplots(1, 2, figsize=(18, 6))  # Yanyana 2 görsel için\n",
    "\n",
    "    # 1. Orijinal görüntü\n",
    "    ax[0].imshow(original_img, cmap='gray', alpha=1.0)\n",
    "    ax[0].set_title(\"Original Image\", fontsize=16)\n",
    "    ax[0].axis('off')\n",
    "\n",
    "    # 2. Overlay görüntü (cellbody, nuclei ve aggregates)\n",
    "    ax[1].imshow(original_img, cmap='gray', alpha=1.0)\n",
    "\n",
    "    # Hücre gövdesi sınırlarını çiz (gri)\n",
    "    for region in measure.regionprops(cellbody_mask):\n",
    "        for coords in measure.find_contours(cellbody_mask == region.label, 0.5):\n",
    "            ax[1].plot(coords[:, 1], coords[:, 0], color='gray', linewidth=1)\n",
    "\n",
    "    # Çekirdek sınırlarını çiz (beyaz)\n",
    "    for region in measure.regionprops(nuclei_mask):\n",
    "        for coords in measure.find_contours(nuclei_mask == region.label, 0.5):\n",
    "            ax[1].plot(coords[:, 1], coords[:, 0], color='white', linewidth=1)\n",
    "\n",
    "    # Aggregatelerin kırmızı overlay'i\n",
    "    red_overlay = np.zeros((*aggregate_mask.shape, 4))  # RGBA\n",
    "    red_overlay[aggregate_mask > 0] = [1, 0, 0, 0.7]  # Kırmızı, %70 opak\n",
    "\n",
    "    ax[1].imshow(red_overlay)\n",
    "\n",
    "    ax[1].set_title(f\"Overlay with Red Aggregates\\nAggregates: {aggregate_count}\\nCell Bodies: {cellbody_count}\\nNuclei: {nuclei_count}\", fontsize=16)\n",
    "    ax[1].axis('off')\n",
    "\n",
    "    plt.tight_layout()\n",
    "    plt.show()\n",
    "\n",
    "    \n",
    "\n"
   ]
  },
  {
   "cell_type": "code",
   "execution_count": 12,
   "metadata": {},
   "outputs": [
    {
     "ename": "NameError",
     "evalue": "name 'masks_cellbody' is not defined",
     "output_type": "error",
     "traceback": [
      "\u001b[0;31m---------------------------------------------------------------------------\u001b[0m",
      "\u001b[0;31mNameError\u001b[0m                                 Traceback (most recent call last)",
      "\u001b[1;32m/Users/demir/Documents/Hva_AI/afstudeerproject/codes_yunus/sam_all_z_slacks.ipynb Cell 13\u001b[0m line \u001b[0;36m5\n\u001b[1;32m     <a href='vscode-notebook-cell:/Users/demir/Documents/Hva_AI/afstudeerproject/codes_yunus/sam_all_z_slacks.ipynb#X15sZmlsZQ%3D%3D?line=50'>51</a>\u001b[0m img_norm \u001b[39m=\u001b[39m normalize(img[z_slice, \u001b[39m3\u001b[39m, :, :])  \u001b[39m# Hücre gövdesi görüntüsünü normalize et\u001b[39;00m\n\u001b[1;32m     <a href='vscode-notebook-cell:/Users/demir/Documents/Hva_AI/afstudeerproject/codes_yunus/sam_all_z_slacks.ipynb#X15sZmlsZQ%3D%3D?line=52'>53</a>\u001b[0m \u001b[39m# Maskeleri oluştur (örnek olarak burada `cellbody_masks`, `nuclei_masks` ve `aggregate_masks` kullanılmıştır)\u001b[39;00m\n\u001b[0;32m---> <a href='vscode-notebook-cell:/Users/demir/Documents/Hva_AI/afstudeerproject/codes_yunus/sam_all_z_slacks.ipynb#X15sZmlsZQ%3D%3D?line=53'>54</a>\u001b[0m cellbody_mask \u001b[39m=\u001b[39m masks_cellbody[z_slice]\n\u001b[1;32m     <a href='vscode-notebook-cell:/Users/demir/Documents/Hva_AI/afstudeerproject/codes_yunus/sam_all_z_slacks.ipynb#X15sZmlsZQ%3D%3D?line=54'>55</a>\u001b[0m nuclei_mask \u001b[39m=\u001b[39m masks_nuclei[z_slice]\n\u001b[1;32m     <a href='vscode-notebook-cell:/Users/demir/Documents/Hva_AI/afstudeerproject/codes_yunus/sam_all_z_slacks.ipynb#X15sZmlsZQ%3D%3D?line=55'>56</a>\u001b[0m aggregate_mask \u001b[39m=\u001b[39m clean_mask[z_slice]\n",
      "\u001b[0;31mNameError\u001b[0m: name 'masks_cellbody' is not defined"
     ]
    }
   ],
   "source": [
    "import matplotlib.pyplot as plt\n",
    "import numpy as np\n",
    "from skimage import measure\n",
    "\n",
    "# Normalize fonksiyonu\n",
    "def normalize(img):\n",
    "    return (img - img.min()) / (img.max() - img.min())\n",
    "\n",
    "# Overlay ve sayıların gösterildiği fonksiyon\n",
    "def plot_overlay_with_counts(original_img, cellbody_mask, nuclei_mask, aggregate_mask, \n",
    "                             cellbody_count, nuclei_count, aggregate_count, alpha=0.5):\n",
    "    fig, ax = plt.subplots(figsize=(15, 6))\n",
    "\n",
    "    # Sol tarafta orijinal görüntü\n",
    "    ax.subplot(1, 2, 1)\n",
    "    ax.imshow(original_img, cmap='gray', alpha=1.0)\n",
    "    ax.set_title(\"Original Image\", fontsize=14)\n",
    "    ax.axis('off')\n",
    "    \n",
    "    # Sağ tarafta overlay\n",
    "    ax.subplot(1, 2, 2)\n",
    "    ax.imshow(original_img, cmap='gray', alpha=1.0)\n",
    "\n",
    "    # Cell body ve nuclei sınırlarını çiz\n",
    "    for region in measure.regionprops(cellbody_mask):\n",
    "        for coords in measure.find_contours(cellbody_mask == region.label, 0.5):\n",
    "            ax.plot(coords[:, 1], coords[:, 0], color='gray', linewidth=1)\n",
    "\n",
    "    for region in measure.regionprops(nuclei_mask):\n",
    "        for coords in measure.find_contours(nuclei_mask == region.label, 0.5):\n",
    "            ax.plot(coords[:, 1], coords[:, 0], color='white', linewidth=1)\n",
    "\n",
    "    # Maskeleri şeffaflıkla overlay et\n",
    "    ax.imshow(cellbody_mask, cmap='gray', alpha=alpha)\n",
    "    ax.imshow(nuclei_mask, cmap='gray', alpha=alpha / 2)\n",
    "    \n",
    "    # Kırmızı agregat overlay\n",
    "    red_overlay = np.zeros((*aggregate_mask.shape, 4))  # RGBA\n",
    "    red_overlay[aggregate_mask > 0] = [1, 0, 0, 0.7]  # Kırmızı, %70 opaklık\n",
    "    ax.imshow(red_overlay)\n",
    "\n",
    "    ax.set_title(f\"Overlay with Red Aggregates\\n\"\n",
    "                 f\"Cells: {cellbody_count}, Nuclei: {nuclei_count}, Aggregates: {aggregate_count}\", fontsize=16)\n",
    "    ax.axis('off')\n",
    "    \n",
    "    plt.tight_layout()\n",
    "    plt.show()\n",
    "\n",
    "# Z-slice'lar üzerinde iterasyon\n",
    "for z_slice in range(img.shape[0]):\n",
    "    img_norm = normalize(img[z_slice, 3, :, :])  # Hücre gövdesi görüntüsünü normalize et\n",
    "\n",
    "    # Maskeleri oluştur (örnek olarak burada `cellbody_masks`, `nuclei_masks` ve `aggregate_masks` kullanılmıştır)\n",
    "    cellbody_mask = masks_cellbody[z_slice]\n",
    "    nuclei_mask = masks_nuclei[z_slice]\n",
    "    aggregate_mask = clean_mask[z_slice]\n",
    "\n",
    "    # Hücre, çekirdek ve agregat sayısı\n",
    "    cellbody_count = int(cellbody_mask.max())\n",
    "    nuclei_count = int(nuclei_mask.max())\n",
    "    aggregate_count = int(aggregate_mask.max())\n",
    "\n",
    "    # Overlay ve sayılarla birlikte görselleştirme\n",
    "    plot_overlay_with_counts(img_norm, cellbody_mask, nuclei_mask, aggregate_mask, \n",
    "                             cellbody_count, nuclei_count, aggregate_count)\n"
   ]
  }
 ],
 "metadata": {
  "kernelspec": {
   "display_name": "napari-env",
   "language": "python",
   "name": "python3"
  },
  "language_info": {
   "codemirror_mode": {
    "name": "ipython",
    "version": 3
   },
   "file_extension": ".py",
   "mimetype": "text/x-python",
   "name": "python",
   "nbconvert_exporter": "python",
   "pygments_lexer": "ipython3",
   "version": "3.10.17"
  },
  "orig_nbformat": 4
 },
 "nbformat": 4,
 "nbformat_minor": 2
}
