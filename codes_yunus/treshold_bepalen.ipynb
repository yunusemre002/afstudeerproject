{
 "cells": [
  {
   "cell_type": "code",
   "execution_count": null,
   "metadata": {},
   "outputs": [],
   "source": [
    "import numpy as np\n",
    "import matplotlib.pyplot as plt\n",
    "from skimage import measure, filters, morphology\n",
    "\n",
    "# 1. Görüntü normalize et\n",
    "def normalize(img):\n",
    "    return (img - np.min(img)) / (np.max(img) - np.min(img))\n",
    "\n",
    "# 2. Kontrast artırma - gamma artırma\n",
    "def adjust_gamma(img, gamma=1.5):\n",
    "    look_up_table = np.array([((i / 255.0) ** gamma) * 255 for i in np.arange(0, 256)]).astype(\"uint8\")\n",
    "    return cv2.LUT(img, look_up_table)\n",
    "\n",
    "# 3. Görüntü üzerinde işlemler\n",
    "img_norm = normalize(img_aggregate)  # Görüntü normalizasyonu\n",
    "img_gamma = adjust_gamma((img_norm * 255).astype(np.uint8), gamma=2.0)  # Kontrast artırma (gamma düzeltmesi)\n",
    "\n",
    "# 4. Eşikleme işlemi\n",
    "threshold_value = filters.threshold_otsu(img_gamma)  # Otsu yöntemi ile eşik değeri\n",
    "binary_img = img_gamma > threshold_value\n",
    "\n",
    "# 5. Küçük gürültüleri temizle\n",
    "clean_img = morphology.remove_small_objects(binary_img, min_size=10)\n",
    "\n",
    "# 6. Bağlantılı bileşen analizi ve agregat sayma\n",
    "labeled_img = measure.label(clean_img)\n",
    "num_aggregates = labeled_img.max()\n",
    "\n",
    "# 7. Görselleştirme\n",
    "plt.figure(figsize=(12, 5))\n",
    "\n",
    "# Orijinal ve işlenmiş görüntüleri yan yana göster\n",
    "plt.subplot(1, 2, 1)\n",
    "plt.imshow(img_gamma, cmap='gray')\n",
    "plt.title('Gamma Artırılmış Görüntü')\n",
    "plt.axis('off')\n",
    "\n",
    "# Bağlantılı bileşenlerin gösterimi (Renkli agregatlar)\n",
    "plt.subplot(1, 2, 2)\n",
    "plt.imshow(labeled_img, cmap='nipy_spectral')\n",
    "plt.title(f'Aggregates Detected: {num_aggregates}')\n",
    "plt.axis('off')\n",
    "\n",
    "plt.tight_layout()\n",
    "plt.show()\n",
    "\n",
    "print(f\"Toplam agregat sayısı: {num_aggregates}\")\n"
   ]
  }
 ],
 "metadata": {
  "language_info": {
   "name": "python"
  },
  "orig_nbformat": 4
 },
 "nbformat": 4,
 "nbformat_minor": 2
}
