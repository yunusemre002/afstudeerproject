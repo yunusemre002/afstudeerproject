{
 "cells": [
  {
   "cell_type": "code",
   "execution_count": 2,
   "metadata": {},
   "outputs": [
    {
     "name": "stdout",
     "output_type": "stream",
     "text": [
      "(9, 4, 1024, 1024)\n",
      "(9, 1024, 1024)\n"
     ]
    }
   ],
   "source": [
    "import numpy as np\n",
    "import tifffile\n",
    "from scipy import ndimage\n",
    "from skimage.filters import threshold_otsu\n",
    "import matplotlib.pyplot as plt\n",
    "from skimage.measure import label, regionprops\n",
    "\n",
    "\n",
    "file_name = f\"/Users/demir/Documents/Hva_AI/afstudeerproject/codes_yunus/input/tif_deneme_1.tif\"\n",
    "\n",
    "img = tifffile.imread(file_name)  # (Z, C, Y, X)\n",
    "print(img.shape)\n",
    "\n",
    "# Sadece 4. kanalı (C3, index 3) tüm Z-stack ile al\n",
    "channel_index = 3\n",
    "c3_stack = img[:, channel_index, :, :]  # Shape: (9, 1024, 1024)\n",
    "\n",
    "print(c3_stack.shape)\n"
   ]
  },
  {
   "cell_type": "code",
   "execution_count": 4,
   "metadata": {},
   "outputs": [
    {
     "name": "stderr",
     "output_type": "stream",
     "text": [
      "could not estimate diameter, does not work on non-2D images\n",
      "z_axis not specified, assuming it is dim 0\n",
      "if this is actually the channel_axis, use 'model.eval(channel_axis=0, ...)'\n"
     ]
    }
   ],
   "source": [
    "from cellpose import models, io\n",
    "import matplotlib.pyplot as plt\n",
    "\n",
    "# Cellpose modelini yükle\n",
    "model = models.Cellpose(model_type='cyto')  # veya 'nuclei' hücre çekirdeği için\n",
    "\n",
    "# normalize et (Cellpose genellikle [0,1] veya [0,255] bekler)\n",
    "stack_normalized = (c3_stack - np.min(c3_stack)) / (np.max(c3_stack) - np.min(c3_stack))\n",
    "stack_scaled = (stack_normalized * 255).astype(np.uint8)  # dtype olarak uint8 daha güvenli olur\n",
    "\n",
    "# Modeli çalıştır (3D segmentasyon)\n",
    "masks, flows, styles, diams = model.eval(\n",
    "    stack_scaled,\n",
    "    channels=[0, 0],  # tek kanal kullanılıyor\n",
    "    do_3D=True,\n",
    "    diameter=None,   # otomatik çap tahmini\n",
    "    min_size=100     # çok küçük segmentleri filtrele\n",
    ")\n",
    "\n",
    "# Sonuçları görselleştir\n",
    "z_index = len(masks) // 2  # ortadaki slice\n",
    "plt.figure(figsize=(12, 6))\n",
    "plt.subplot(1, 2, 1)\n",
    "plt.imshow(stack_scaled[z_index], cmap='gray')\n",
    "plt.title('Orijinal')\n",
    "\n",
    "plt.subplot(1, 2, 2)\n",
    "plt.imshow(masks[z_index], cmap='nipy_spectral')\n",
    "plt.title('Cellpose 3D Segmentasyon (Z-slice)')\n",
    "plt.show()\n"
   ]
  },
  {
   "cell_type": "code",
   "execution_count": null,
   "metadata": {},
   "outputs": [],
   "source": [
    "# Maske sonuçlarını kaydet (.tif formatında)\n",
    "output_mask_path = \"/Users/demir/Documents/Hva_AI/afstudeerproject/codes_yunus/output/cellpose_mask_c3.tif\"\n",
    "tifffile.imwrite(output_mask_path, masks.astype(np.uint16))\n",
    "print(f\"Maskeler kaydedildi: {output_mask_path}\")\n"
   ]
  }
 ],
 "metadata": {
  "kernelspec": {
   "display_name": "napari-env",
   "language": "python",
   "name": "python3"
  },
  "language_info": {
   "codemirror_mode": {
    "name": "ipython",
    "version": 3
   },
   "file_extension": ".py",
   "mimetype": "text/x-python",
   "name": "python",
   "nbconvert_exporter": "python",
   "pygments_lexer": "ipython3",
   "version": "3.10.17"
  },
  "orig_nbformat": 4
 },
 "nbformat": 4,
 "nbformat_minor": 2
}
