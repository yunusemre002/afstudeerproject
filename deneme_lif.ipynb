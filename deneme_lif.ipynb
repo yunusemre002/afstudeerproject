{
 "cells": [
  {
   "cell_type": "code",
   "execution_count": 3,
   "metadata": {},
   "outputs": [
    {
     "name": "stdout",
     "output_type": "stream",
     "text": [
      "Adı: Series001, Boyutlar: Dims(x=2168, y=2168, z=9, t=1, m=1)\n"
     ]
    }
   ],
   "source": [
    "from readlif.reader import LifFile\n",
    "\n",
    "path = f'Microscopy Data Huntingtin aggregates/Raw data #1/20240131_CKR_E10B_mHtt-HAQ25Doxy96H_HA-star580_CCT1-star635P_A11-star460L_nucspotlive488_1.lif'\n",
    "\n",
    "# .lif dosyasını aç\n",
    "lif_file = LifFile(path)\n",
    "\n",
    "# İçindeki tüm görüntüleri listele\n",
    "for image in lif_file.get_iter_image():\n",
    "    dims = image.info['dims']  # Boyut bilgilerini al\n",
    "    print(f\"Adı: {image.name}, Boyutlar: {dims}\")"
   ]
  },
  {
   "cell_type": "markdown",
   "metadata": {},
   "source": [
    "- x = 2168, y = 2168 → 2168x2168 piksel boyutunda\n",
    "- z = 9 → 9 farklı Z-katmanı (derinlik seviyesi, 3D veri olabilir)\n",
    "- t = 1 → Zaman boyutu 1 (yani zaman serisi içermiyor)\n",
    "- m = 1 → 1 kanal var (muhtemelen gri ölçekli mikroskop görüntüsü)"
   ]
  },
  {
   "cell_type": "code",
   "execution_count": null,
   "metadata": {},
   "outputs": [],
   "source": []
  },
  {
   "cell_type": "code",
   "execution_count": null,
   "metadata": {},
   "outputs": [],
   "source": []
  },
  {
   "cell_type": "code",
   "execution_count": null,
   "metadata": {},
   "outputs": [],
   "source": []
  }
 ],
 "metadata": {
  "kernelspec": {
   "display_name": ".venv",
   "language": "python",
   "name": "python3"
  },
  "language_info": {
   "codemirror_mode": {
    "name": "ipython",
    "version": 3
   },
   "file_extension": ".py",
   "mimetype": "text/x-python",
   "name": "python",
   "nbconvert_exporter": "python",
   "pygments_lexer": "ipython3",
   "version": "3.12.5"
  },
  "orig_nbformat": 4
 },
 "nbformat": 4,
 "nbformat_minor": 2
}
