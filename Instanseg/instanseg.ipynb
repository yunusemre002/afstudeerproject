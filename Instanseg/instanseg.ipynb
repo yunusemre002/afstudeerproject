{
 "cells": [
  {
   "cell_type": "code",
   "execution_count": 1,
   "metadata": {},
   "outputs": [],
   "source": [
    "import torch\n",
    "import torchvision\n",
    "from torchvision.transforms import InterpolationMode\n",
    "from aicsimageio import AICSImage\n",
    "from InstanSeg.utils.tiling import sliding_window_inference\n",
    "from InstanSeg.utils.utils import save_image_with_label_overlay, _move_channel_axis, _choose_device, show_images, labels_to_features\n",
    "import json\n",
    "import os"
   ]
  },
  {
   "cell_type": "code",
   "execution_count": 2,
   "metadata": {},
   "outputs": [
    {
     "ename": "KeyError",
     "evalue": "'INSTANSEG_BIOIMAGEIO_PATH'",
     "output_type": "error",
     "traceback": [
      "\u001b[1;31m---------------------------------------------------------------------------\u001b[0m",
      "\u001b[1;31mKeyError\u001b[0m                                  Traceback (most recent call last)",
      "Cell \u001b[1;32mIn[2], line 2\u001b[0m\n\u001b[0;32m      1\u001b[0m model_to_download \u001b[38;5;241m=\u001b[39m \u001b[38;5;124m\"\u001b[39m\u001b[38;5;124mfluorescence_nuclei_and_cells\u001b[39m\u001b[38;5;124m\"\u001b[39m \u001b[38;5;66;03m#or \"brightfield_nuclei\"\u001b[39;00m\n\u001b[1;32m----> 2\u001b[0m path_to_torchscript_model \u001b[38;5;241m=\u001b[39m os\u001b[38;5;241m.\u001b[39menviron[\u001b[38;5;124m\"\u001b[39m\u001b[38;5;124mINSTANSEG_BIOIMAGEIO_PATH\u001b[39m\u001b[38;5;124m\"\u001b[39m] \u001b[38;5;241m+\u001b[39m \u001b[38;5;124mf\u001b[39m\u001b[38;5;124m\"\u001b[39m\u001b[38;5;132;01m{\u001b[39;00mmodel_to_download\u001b[38;5;132;01m}\u001b[39;00m\u001b[38;5;124m/instanseg.pt\u001b[39m\u001b[38;5;124m\"\u001b[39m\n\u001b[0;32m      4\u001b[0m \u001b[38;5;66;03m# Load the model from torchscript, replace \"my_first_instanseg.pt\" with the name of your model.\u001b[39;00m\n\u001b[0;32m      5\u001b[0m instanseg \u001b[38;5;241m=\u001b[39m torch\u001b[38;5;241m.\u001b[39mjit\u001b[38;5;241m.\u001b[39mload(path_to_torchscript_model)\n",
      "File \u001b[1;32m<frozen os>:679\u001b[0m, in \u001b[0;36m__getitem__\u001b[1;34m(self, key)\u001b[0m\n",
      "\u001b[1;31mKeyError\u001b[0m: 'INSTANSEG_BIOIMAGEIO_PATH'"
     ]
    }
   ],
   "source": [
    "model_to_download = \"fluorescence_nuclei_and_cells\" #or \"brightfield_nuclei\"\n",
    "path_to_torchscript_model = os.environ[\"INSTANSEG_BIOIMAGEIO_PATH\"] + f\"{model_to_download}/instanseg.pt\"\n",
    "\n",
    "# Load the model from torchscript, replace \"my_first_instanseg.pt\" with the name of your model.\n",
    "instanseg = torch.jit.load(path_to_torchscript_model)\n",
    "\n",
    "device= _choose_device()\n",
    "instanseg.to(device)\n",
    "\n",
    "model_pixel_size = instanseg.pixel_size"
   ]
  },
  {
   "cell_type": "code",
   "execution_count": null,
   "metadata": {},
   "outputs": [],
   "source": []
  }
 ],
 "metadata": {
  "kernelspec": {
   "display_name": "base",
   "language": "python",
   "name": "python3"
  },
  "language_info": {
   "codemirror_mode": {
    "name": "ipython",
    "version": 3
   },
   "file_extension": ".py",
   "mimetype": "text/x-python",
   "name": "python",
   "nbconvert_exporter": "python",
   "pygments_lexer": "ipython3",
   "version": "3.11.9"
  }
 },
 "nbformat": 4,
 "nbformat_minor": 2
}
